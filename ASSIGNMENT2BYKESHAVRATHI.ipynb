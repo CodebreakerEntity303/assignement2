{
  "nbformat": 4,
  "nbformat_minor": 0,
  "metadata": {
    "colab": {
      "provenance": []
    },
    "kernelspec": {
      "name": "python3",
      "display_name": "Python 3"
    },
    "language_info": {
      "name": "python"
    }
  },
  "cells": [
    {
      "cell_type": "code",
      "execution_count": null,
      "metadata": {
        "colab": {
          "base_uri": "https://localhost:8080/"
        },
        "id": "zw8KN_tIroNN",
        "outputId": "4c3fbce1-d62d-4834-80e7-c7ca455504f8"
      },
      "outputs": [
        {
          "output_type": "execute_result",
          "data": {
            "text/plain": [
              "[1, 3, 5, 7, 9, 11, 13, 15, 17, 19, 21, 23, 25]"
            ]
          },
          "metadata": {},
          "execution_count": 8
        }
      ],
      "source": [
        "#Q1\n",
        "# def keyword is used to create a function\n",
        "n = 1\n",
        "n1 = 25\n",
        "l=[]\n",
        "def od():\n",
        "    for i in range(n,n1+1):\n",
        "        if i%2!=0:\n",
        "            l.append(i) \n",
        "    return l\n",
        "od()"
      ]
    },
    {
      "cell_type": "code",
      "source": [
        "#Q2\n",
        "# *args - It allow us to pass the variable number of non keyword arguments to function\n",
        "# *kwargs -  It allows us to pass the variable length of keyword arguments to the function\n",
        "\n",
        "def sub(*num):\n",
        "    diff = 0\n",
        "    \n",
        "    for n in num:\n",
        "        diff = diff - n\n",
        "\n",
        "    print(\"Difference:\",diff)\n",
        "\n",
        "sub(3,5)\n",
        "sub(4,5,6,7)\n",
        "sub(1,2,3,5,6)\n",
        "print()\n",
        "print(\"The Avengers !!\")\n",
        "print()\n",
        "def info(**details):\n",
        "    for k,v in details.items():\n",
        "        print(\"{} = {}\".format(k,v))\n",
        "    print()\n",
        "\n",
        "info(NAME=\"Tony Stark\", Roll=\"Iron Man\",Team=\"Avengers\")\n",
        "info(NAME=\"Steve Roger\", Roll=\"Captain America\",Team=\"Avengers\")\n",
        "info(NAME=\"Thor Odinson\", Roll=\"God of Thunder\",Team=\"Avengers\")\n",
        "info(NAME=\"Dr. Bruce Banner\", Roll=\"Hulk\",Team=\"Avengers\")\n",
        "info(NAME=\"Clint Barton\", Roll=\"Hawkeye\",Team=\"Avengers\")\n",
        "info(NAME=\"Natasha Romanoff\", Roll=\"Black Widow\",Team=\"Avengers\")\n"
      ],
      "metadata": {
        "colab": {
          "base_uri": "https://localhost:8080/"
        },
        "id": "14BZ_lzmr6gl",
        "outputId": "8cb9c60b-00e1-459e-f45e-251ac2ddd2be"
      },
      "execution_count": null,
      "outputs": [
        {
          "output_type": "stream",
          "name": "stdout",
          "text": [
            "Difference: -8\n",
            "Difference: -22\n",
            "Difference: -17\n",
            "\n",
            "The Avengers !!\n",
            "\n",
            "NAME = Tony Stark\n",
            "Roll = Iron Man\n",
            "Team = Avengers\n",
            "\n",
            "NAME = Steve Roger\n",
            "Roll = Captain America\n",
            "Team = Avengers\n",
            "\n",
            "NAME = Thor Odinson\n",
            "Roll = God of Thunder\n",
            "Team = Avengers\n",
            "\n",
            "NAME = Dr. Bruce Banner\n",
            "Roll = Hulk\n",
            "Team = Avengers\n",
            "\n",
            "NAME = Clint Barton\n",
            "Roll = Hawkeye\n",
            "Team = Avengers\n",
            "\n",
            "NAME = Natasha Romanoff\n",
            "Roll = Black Widow\n",
            "Team = Avengers\n",
            "\n"
          ]
        }
      ]
    },
    {
      "cell_type": "code",
      "source": [
        "#Q3\n",
        "# Iterator in Python is an object that is used to iterate over iterable objects like lists, tuples, dicts, and sets\n",
        "# The method used to initialise the iterator object: -  iter() method \n",
        "# and the method used for iteration :- next()\n",
        "l = [2, 4, 6, 8, 10, 12, 14,16, 18, 20]\n",
        "i = iter(l)\n",
        "\n",
        "print(next(i))\n",
        "print(next(i))\n",
        "print(next(i))\n",
        "print(next(i))\n",
        "print(next(i))"
      ],
      "metadata": {
        "colab": {
          "base_uri": "https://localhost:8080/"
        },
        "id": "Xctw9vb4r6nr",
        "outputId": "918b3f60-05d1-427a-d64e-7885780a66b2"
      },
      "execution_count": null,
      "outputs": [
        {
          "output_type": "stream",
          "name": "stdout",
          "text": [
            "2\n",
            "4\n",
            "6\n",
            "8\n",
            "10\n"
          ]
        }
      ]
    },
    {
      "cell_type": "code",
      "source": [
        "#Q4\n",
        "# A generator is a function that returns an iterator that produces a sequence of values when iterated over\n",
        "# Yield keyword is used to produce a value from the generator and pause the generator function's execution until the next value is requested\n",
        "\n",
        "def my_generator(n):\n",
        "    value = 0\n",
        "    while value < n:\n",
        "        yield value\n",
        "        value += 1\n",
        "for value in my_generator(3):\n",
        "    print(value)"
      ],
      "metadata": {
        "colab": {
          "base_uri": "https://localhost:8080/"
        },
        "id": "uDZP_9qwsBYx",
        "outputId": "2697e901-083c-4f0a-94c2-ae302598347d"
      },
      "execution_count": null,
      "outputs": [
        {
          "output_type": "stream",
          "name": "stdout",
          "text": [
            "0\n",
            "1\n",
            "2\n"
          ]
        }
      ]
    },
    {
      "cell_type": "code",
      "source": [
        "#Q5\n",
        "from math import sqrt\n",
        "\n",
        "def is_prime(n):\n",
        "    if (n <= 1):\n",
        "        return False\n",
        "    if (n == 2):\n",
        "        return True\n",
        "    if (n % 2 == 0):\n",
        "        return False\n",
        "\n",
        "    i = 3\n",
        "    while i <= sqrt(n):\n",
        "        if n % i == 0:\n",
        "            return False\n",
        "        i = i + 2\n",
        "\n",
        "    return True\n",
        "def prime_generator():\n",
        "    n = 1\n",
        "    while True:\n",
        "        n += 1\n",
        "        if is_prime(n):\n",
        "            yield n\n",
        "            \n",
        "generator = prime_generator()\n",
        "\n",
        "l=[]\n",
        "\n",
        "for i in range(0,165):\n",
        "  l.append(next(generator))\n",
        "print(l)"
      ],
      "metadata": {
        "colab": {
          "base_uri": "https://localhost:8080/"
        },
        "id": "IjGy2RmusD4f",
        "outputId": "5d343264-6770-4345-d6b0-506f5180d52b"
      },
      "execution_count": null,
      "outputs": [
        {
          "output_type": "stream",
          "name": "stdout",
          "text": [
            "[2, 3, 5, 7, 11, 13, 17, 19, 23, 29, 31, 37, 41, 43, 47, 53, 59, 61, 67, 71, 73, 79, 83, 89, 97, 101, 103, 107, 109, 113, 127, 131, 137, 139, 149, 151, 157, 163, 167, 173, 179, 181, 191, 193, 197, 199, 211, 223, 227, 229, 233, 239, 241, 251, 257, 263, 269, 271, 277, 281, 283, 293, 307, 311, 313, 317, 331, 337, 347, 349, 353, 359, 367, 373, 379, 383, 389, 397, 401, 409, 419, 421, 431, 433, 439, 443, 449, 457, 461, 463, 467, 479, 487, 491, 499, 503, 509, 521, 523, 541, 547, 557, 563, 569, 571, 577, 587, 593, 599, 601, 607, 613, 617, 619, 631, 641, 643, 647, 653, 659, 661, 673, 677, 683, 691, 701, 709, 719, 727, 733, 739, 743, 751, 757, 761, 769, 773, 787, 797, 809, 811, 821, 823, 827, 829, 839, 853, 857, 859, 863, 877, 881, 883, 887, 907, 911, 919, 929, 937, 941, 947, 953, 967, 971, 977]\n"
          ]
        }
      ]
    },
    {
      "cell_type": "code",
      "source": [
        "#Q6\n",
        "nterms = 10\n",
        "n1, n2 = 0, 1\n",
        "count = 0\n",
        "print(\"Fibonacci sequence:\")\n",
        "while count < nterms:\n",
        "  print(n1)\n",
        "  nth = n1 + n2\n",
        "  n1 = n2\n",
        "  n2 = nth\n",
        "  count += 1"
      ],
      "metadata": {
        "colab": {
          "base_uri": "https://localhost:8080/"
        },
        "id": "YiLCC1zcsR-Q",
        "outputId": "68f1743d-ed44-4d33-c022-da25c0e275fb"
      },
      "execution_count": null,
      "outputs": [
        {
          "output_type": "stream",
          "name": "stdout",
          "text": [
            "Fibonacci sequence:\n",
            "0\n",
            "1\n",
            "1\n",
            "2\n",
            "3\n",
            "5\n",
            "8\n",
            "13\n",
            "21\n",
            "34\n"
          ]
        }
      ]
    },
    {
      "cell_type": "code",
      "source": [
        "#Q6\n",
        "h_letters = [ letter for letter in 'pwskills' ]\n",
        "print( h_letters)"
      ],
      "metadata": {
        "id": "qUE4d-GDzOwi",
        "colab": {
          "base_uri": "https://localhost:8080/"
        },
        "outputId": "ce92d69d-b8ee-4093-aeed-3a654371dfd8"
      },
      "execution_count": 5,
      "outputs": [
        {
          "output_type": "stream",
          "name": "stdout",
          "text": [
            "['p', 'w', 's', 'k', 'i', 'l', 'l', 's']\n"
          ]
        }
      ]
    },
    {
      "cell_type": "code",
      "source": [
        "#Q8\n",
        "num=int(input(\"Enter any number:\"))\n",
        "temp=num\n",
        "rev=0\n",
        "while(num>0):\n",
        "    dig=num%10\n",
        "    rev=rev*10+dig\n",
        "    num=num//10\n",
        "if(temp==rev):\n",
        "    print(\"The {0} number is palindrome!\".format(temp))\n",
        "else:\n",
        "    print(\"Not a palindrome!\") "
      ],
      "metadata": {
        "id": "4K-nU7kDzO7A",
        "colab": {
          "base_uri": "https://localhost:8080/"
        },
        "outputId": "83c96c86-9d58-48ff-ae0a-fd62edbdc33f"
      },
      "execution_count": 4,
      "outputs": [
        {
          "output_type": "stream",
          "name": "stdout",
          "text": [
            "Enter any number:121\n",
            "The 121 number is palindrome!\n"
          ]
        }
      ]
    },
    {
      "cell_type": "code",
      "source": [
        "#Q9\n",
        "odd_list = [element for element in range(1, 101) if element % 2 == 1 ]\n",
        "print(odd_list)"
      ],
      "metadata": {
        "id": "NoXE4z0ZuQw4",
        "colab": {
          "base_uri": "https://localhost:8080/"
        },
        "outputId": "e904af8c-eb80-4ac2-e74e-45984f2fcaf6"
      },
      "execution_count": null,
      "outputs": [
        {
          "output_type": "stream",
          "name": "stdout",
          "text": [
            "[1, 3, 5, 7, 9, 11, 13, 15, 17, 19, 21, 23, 25, 27, 29, 31, 33, 35, 37, 39, 41, 43, 45, 47, 49, 51, 53, 55, 57, 59, 61, 63, 65, 67, 69, 71, 73, 75, 77, 79, 81, 83, 85, 87, 89, 91, 93, 95, 97, 99]\n"
          ]
        }
      ]
    }
  ]
}